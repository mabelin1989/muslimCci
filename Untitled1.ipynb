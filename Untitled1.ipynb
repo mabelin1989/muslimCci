{
  "nbformat": 4,
  "nbformat_minor": 0,
  "metadata": {
    "colab": {
      "provenance": [],
      "authorship_tag": "ABX9TyNPR1qOu3wPIECJJNMnqobP",
      "include_colab_link": true
    },
    "kernelspec": {
      "name": "python3",
      "display_name": "Python 3"
    },
    "language_info": {
      "name": "python"
    }
  },
  "cells": [
    {
      "cell_type": "markdown",
      "metadata": {
        "id": "view-in-github",
        "colab_type": "text"
      },
      "source": [
        "<a href=\"https://colab.research.google.com/github/mogushkoVcci/muslimCci/blob/main/Untitled1.ipynb\" target=\"_parent\"><img src=\"https://colab.research.google.com/assets/colab-badge.svg\" alt=\"Open In Colab\"/></a>"
      ]
    },
    {
      "cell_type": "code",
      "source": [
        "a = [1,2,3,2,1,5,6,5,5,5,6]\n",
        "seen = set()\n",
        "uniq = []\n",
        "for x in a:\n",
        "    if x not in seen:\n",
        "        uniq.append(x)\n",
        "        seen.add(x)\n",
        "print (uniq)\n",
        "print(seen)"
      ],
      "metadata": {
        "colab": {
          "base_uri": "https://localhost:8080/"
        },
        "id": "ulvy7ssp5EX-",
        "outputId": "456874f2-a6c1-4703-ff63-38b3549f482d"
      },
      "execution_count": null,
      "outputs": [
        {
          "output_type": "stream",
          "name": "stdout",
          "text": [
            "[1, 2, 3, 5, 6]\n",
            "{1, 2, 3, 5, 6}\n"
          ]
        }
      ]
    },
    {
      "cell_type": "markdown",
      "source": [
        "# Новый раздел"
      ],
      "metadata": {
        "id": "TSNS7iGiNwKj"
      }
    },
    {
      "cell_type": "code",
      "source": [
        "a = [1,2,3,2,1,5,6,5,5,5]\n",
        "seen = set(a)\n",
        "print(seen)"
      ],
      "metadata": {
        "colab": {
          "base_uri": "https://localhost:8080/"
        },
        "id": "V_3EhlOa5pBF",
        "outputId": "248e0e9c-1b8d-48e7-e648-1c0868f56489"
      },
      "execution_count": null,
      "outputs": [
        {
          "output_type": "stream",
          "name": "stdout",
          "text": [
            "{1, 2, 3, 5, 6}\n"
          ]
        }
      ]
    },
    {
      "cell_type": "code",
      "source": [
        "a = [2,3,3,2,1,5,6,5,5,5,7,7,7]\n",
        "seen = {}\n",
        "dupes = []\n",
        "\n",
        "for x in a:\n",
        "    if x not in seen:\n",
        "      seen[x] = 2\n",
        "      seen[x] += 1\n",
        "print(dupes)\n",
        "print(seen)\n"
      ],
      "metadata": {
        "colab": {
          "base_uri": "https://localhost:8080/"
        },
        "id": "5ssBiaGQ6Iom",
        "outputId": "f5ce1d1c-26e4-4c0c-be65-429c4c5ab795"
      },
      "execution_count": null,
      "outputs": [
        {
          "output_type": "stream",
          "name": "stdout",
          "text": [
            "[]\n",
            "{2: 3, 3: 3, 1: 3, 5: 3, 6: 3, 7: 3}\n"
          ]
        }
      ]
    },
    {
      "cell_type": "code",
      "source": [
        "a = [1, 2, 3,1, 5, 3,5,5]\n",
        "\n",
        "no_dupes = [x for n, x in enumerate(a) if x not in a[:n]]\n",
        "print (no_dupes) # [[1], [2], [3], [5]]\n",
        "\n",
        "dupes = [x for n, x in enumerate(a) if x in a[:n]]\n",
        "print (dupes) # [[1], [3]]"
      ],
      "metadata": {
        "colab": {
          "base_uri": "https://localhost:8080/"
        },
        "id": "gyr5vHEB9P9F",
        "outputId": "2d7393f4-1818-4a14-8c35-9bd57ca5f5b8"
      },
      "execution_count": null,
      "outputs": [
        {
          "output_type": "stream",
          "name": "stdout",
          "text": [
            "[1, 2, 3, 5]\n",
            "[1, 3, 5, 5]\n"
          ]
        }
      ]
    },
    {
      "cell_type": "code",
      "source": [
        "\n",
        "aa = [2,3,3,1,6,6,6,5,5,]\n",
        "dub={}\n",
        "for i in aa:\n",
        "   a=aa.count(i)\n",
        "   if a==1:\n",
        "     dub.append(i)\n",
        "#все повторяющиеся элементы\n",
        "print(dub)\n",
        "#уникальные повторяющиеся элементы\n"
      ],
      "metadata": {
        "colab": {
          "base_uri": "https://localhost:8080/",
          "height": 235
        },
        "id": "DzjeNA6OTIs8",
        "outputId": "e93f3573-9d26-450c-f351-773f8c3bf846"
      },
      "execution_count": null,
      "outputs": [
        {
          "output_type": "error",
          "ename": "AttributeError",
          "evalue": "ignored",
          "traceback": [
            "\u001b[0;31m---------------------------------------------------------------------------\u001b[0m",
            "\u001b[0;31mAttributeError\u001b[0m                            Traceback (most recent call last)",
            "\u001b[0;32m<ipython-input-45-3d53ce1a8e67>\u001b[0m in \u001b[0;36m<module>\u001b[0;34m\u001b[0m\n\u001b[1;32m      4\u001b[0m    \u001b[0ma\u001b[0m\u001b[0;34m=\u001b[0m\u001b[0maa\u001b[0m\u001b[0;34m.\u001b[0m\u001b[0mcount\u001b[0m\u001b[0;34m(\u001b[0m\u001b[0mi\u001b[0m\u001b[0;34m)\u001b[0m\u001b[0;34m\u001b[0m\u001b[0;34m\u001b[0m\u001b[0m\n\u001b[1;32m      5\u001b[0m    \u001b[0;32mif\u001b[0m \u001b[0ma\u001b[0m\u001b[0;34m==\u001b[0m\u001b[0;36m1\u001b[0m\u001b[0;34m:\u001b[0m\u001b[0;34m\u001b[0m\u001b[0;34m\u001b[0m\u001b[0m\n\u001b[0;32m----> 6\u001b[0;31m      \u001b[0mdub\u001b[0m\u001b[0;34m.\u001b[0m\u001b[0mappend\u001b[0m\u001b[0;34m(\u001b[0m\u001b[0mi\u001b[0m\u001b[0;34m)\u001b[0m\u001b[0;34m\u001b[0m\u001b[0;34m\u001b[0m\u001b[0m\n\u001b[0m\u001b[1;32m      7\u001b[0m \u001b[0;31m#все повторяющиеся элементы\u001b[0m\u001b[0;34m\u001b[0m\u001b[0;34m\u001b[0m\u001b[0;34m\u001b[0m\u001b[0m\n\u001b[1;32m      8\u001b[0m \u001b[0mprint\u001b[0m\u001b[0;34m(\u001b[0m\u001b[0mdub\u001b[0m\u001b[0;34m)\u001b[0m\u001b[0;34m\u001b[0m\u001b[0;34m\u001b[0m\u001b[0m\n",
            "\u001b[0;31mAttributeError\u001b[0m: 'dict' object has no attribute 'append'"
          ]
        }
      ]
    }
  ]
}